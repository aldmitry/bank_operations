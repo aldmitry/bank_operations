{
  "nbformat": 4,
  "nbformat_minor": 0,
  "metadata": {
    "accelerator": "GPU",
    "colab": {
      "name": "Определение мошеннических операций",
      "provenance": [],
      "collapsed_sections": []
    },
    "kernelspec": {
      "display_name": "Python 3",
      "name": "python3"
    }
  },
  "cells": [
    {
      "cell_type": "code",
      "metadata": {
        "id": "0hyWYiPqLdez"
      },
      "source": [
        "from tensorflow.keras.models import Model, Sequential \n",
        "from tensorflow.keras.layers import Dense, Flatten, Reshape, Input, Conv2DTranspose, concatenate, Activation, MaxPooling2D, Conv2D, BatchNormalization,Dropout, Conv1D, Conv1DTranspose, MaxPooling1D\n",
        "from tensorflow.keras import backend as K\n",
        "from tensorflow.keras.optimizers import Adam \n",
        "from tensorflow.keras import utils\n",
        "from tensorflow.keras.datasets import mnist, fashion_mnist\n",
        "from tensorflow.keras.callbacks import LambdaCallback, ModelCheckpoint\n",
        "from keras.models import load_model\n",
        " \n",
        "import matplotlib.pyplot as plt \n",
        "from tensorflow.keras.preprocessing import image\n",
        "import numpy as np\n",
        "import pandas as pd \n",
        "from PIL import Image\n",
        "from sklearn.model_selection import train_test_split\n",
        "from sklearn.preprocessing import StandardScaler\n",
        "import pandas as pd\n",
        "import os #\n",
        "from google.colab import drive \n",
        "import time, random\n",
        "import seaborn as sns\n",
        "sns.set_style('darkgrid')"
      ],
      "execution_count": null,
      "outputs": []
    },
    {
      "cell_type": "code",
      "metadata": {
        "colab": {
          "base_uri": "https://localhost:8080/"
        },
        "id": "A0z0yyCJEs0v",
        "outputId": "ad78e00b-e7e0-4da6-ad00-463a865a4d01"
      },
      "source": [
        "drive.mount('/content/drive/')"
      ],
      "execution_count": null,
      "outputs": [
        {
          "output_type": "stream",
          "text": [
            "Mounted at /content/drive/\n"
          ],
          "name": "stdout"
        }
      ]
    },
    {
      "cell_type": "markdown",
      "metadata": {
        "id": "AHie46lEQBVq"
      },
      "source": [
        "#Определение мошеннических операций\n",
        "\n",
        "## Имеется база банковских операций, прямое обучение с учителем достаточно плохо будет работать, потому что мошеннических операций в 1000 раз меньше. Использовал автокодировщик, который обучается на легальных операциях, тем самым на них он будет ошибаться меньше, чем на мошеннических Путем вычисления ошибки восстановления при прогоне операции через автокодировщик, вычисляется оптимальный порог ошибки, при котором точность выявления операций станет равной 92%. Данный подход хорош тем, что порог можно занизить для большей надежности, и подозрительные операции отправлять для детальной проверки банковским сотрудникам.\n"
      ]
    },
    {
      "cell_type": "code",
      "metadata": {
        "id": "89p7GynPQM4F"
      },
      "source": [
        "df = pd.read_csv(\"/content/drive/My Drive/Базы/creditcard.csv\") "
      ],
      "execution_count": null,
      "outputs": []
    },
    {
      "cell_type": "markdown",
      "metadata": {
        "id": "D04_IvsR8IOw"
      },
      "source": [
        "##Предобработка данных\n"
      ]
    },
    {
      "cell_type": "code",
      "metadata": {
        "colab": {
          "base_uri": "https://localhost:8080/",
          "height": 224
        },
        "id": "wZ6_P099QNn9",
        "outputId": "fcdd9a3c-f008-44fe-dc35-0f6bba29d4d2"
      },
      "source": [
        "df.head() # выводим первые пять строк"
      ],
      "execution_count": null,
      "outputs": [
        {
          "output_type": "execute_result",
          "data": {
            "text/html": [
              "<div>\n",
              "<style scoped>\n",
              "    .dataframe tbody tr th:only-of-type {\n",
              "        vertical-align: middle;\n",
              "    }\n",
              "\n",
              "    .dataframe tbody tr th {\n",
              "        vertical-align: top;\n",
              "    }\n",
              "\n",
              "    .dataframe thead th {\n",
              "        text-align: right;\n",
              "    }\n",
              "</style>\n",
              "<table border=\"1\" class=\"dataframe\">\n",
              "  <thead>\n",
              "    <tr style=\"text-align: right;\">\n",
              "      <th></th>\n",
              "      <th>Time</th>\n",
              "      <th>V1</th>\n",
              "      <th>V2</th>\n",
              "      <th>V3</th>\n",
              "      <th>V4</th>\n",
              "      <th>V5</th>\n",
              "      <th>V6</th>\n",
              "      <th>V7</th>\n",
              "      <th>V8</th>\n",
              "      <th>V9</th>\n",
              "      <th>V10</th>\n",
              "      <th>V11</th>\n",
              "      <th>V12</th>\n",
              "      <th>V13</th>\n",
              "      <th>V14</th>\n",
              "      <th>V15</th>\n",
              "      <th>V16</th>\n",
              "      <th>V17</th>\n",
              "      <th>V18</th>\n",
              "      <th>V19</th>\n",
              "      <th>V20</th>\n",
              "      <th>V21</th>\n",
              "      <th>V22</th>\n",
              "      <th>V23</th>\n",
              "      <th>V24</th>\n",
              "      <th>V25</th>\n",
              "      <th>V26</th>\n",
              "      <th>V27</th>\n",
              "      <th>V28</th>\n",
              "      <th>Amount</th>\n",
              "      <th>Class</th>\n",
              "    </tr>\n",
              "  </thead>\n",
              "  <tbody>\n",
              "    <tr>\n",
              "      <th>0</th>\n",
              "      <td>0.0</td>\n",
              "      <td>-1.359807</td>\n",
              "      <td>-0.072781</td>\n",
              "      <td>2.536347</td>\n",
              "      <td>1.378155</td>\n",
              "      <td>-0.338321</td>\n",
              "      <td>0.462388</td>\n",
              "      <td>0.239599</td>\n",
              "      <td>0.098698</td>\n",
              "      <td>0.363787</td>\n",
              "      <td>0.090794</td>\n",
              "      <td>-0.551600</td>\n",
              "      <td>-0.617801</td>\n",
              "      <td>-0.991390</td>\n",
              "      <td>-0.311169</td>\n",
              "      <td>1.468177</td>\n",
              "      <td>-0.470401</td>\n",
              "      <td>0.207971</td>\n",
              "      <td>0.025791</td>\n",
              "      <td>0.403993</td>\n",
              "      <td>0.251412</td>\n",
              "      <td>-0.018307</td>\n",
              "      <td>0.277838</td>\n",
              "      <td>-0.110474</td>\n",
              "      <td>0.066928</td>\n",
              "      <td>0.128539</td>\n",
              "      <td>-0.189115</td>\n",
              "      <td>0.133558</td>\n",
              "      <td>-0.021053</td>\n",
              "      <td>149.62</td>\n",
              "      <td>0</td>\n",
              "    </tr>\n",
              "    <tr>\n",
              "      <th>1</th>\n",
              "      <td>0.0</td>\n",
              "      <td>1.191857</td>\n",
              "      <td>0.266151</td>\n",
              "      <td>0.166480</td>\n",
              "      <td>0.448154</td>\n",
              "      <td>0.060018</td>\n",
              "      <td>-0.082361</td>\n",
              "      <td>-0.078803</td>\n",
              "      <td>0.085102</td>\n",
              "      <td>-0.255425</td>\n",
              "      <td>-0.166974</td>\n",
              "      <td>1.612727</td>\n",
              "      <td>1.065235</td>\n",
              "      <td>0.489095</td>\n",
              "      <td>-0.143772</td>\n",
              "      <td>0.635558</td>\n",
              "      <td>0.463917</td>\n",
              "      <td>-0.114805</td>\n",
              "      <td>-0.183361</td>\n",
              "      <td>-0.145783</td>\n",
              "      <td>-0.069083</td>\n",
              "      <td>-0.225775</td>\n",
              "      <td>-0.638672</td>\n",
              "      <td>0.101288</td>\n",
              "      <td>-0.339846</td>\n",
              "      <td>0.167170</td>\n",
              "      <td>0.125895</td>\n",
              "      <td>-0.008983</td>\n",
              "      <td>0.014724</td>\n",
              "      <td>2.69</td>\n",
              "      <td>0</td>\n",
              "    </tr>\n",
              "    <tr>\n",
              "      <th>2</th>\n",
              "      <td>1.0</td>\n",
              "      <td>-1.358354</td>\n",
              "      <td>-1.340163</td>\n",
              "      <td>1.773209</td>\n",
              "      <td>0.379780</td>\n",
              "      <td>-0.503198</td>\n",
              "      <td>1.800499</td>\n",
              "      <td>0.791461</td>\n",
              "      <td>0.247676</td>\n",
              "      <td>-1.514654</td>\n",
              "      <td>0.207643</td>\n",
              "      <td>0.624501</td>\n",
              "      <td>0.066084</td>\n",
              "      <td>0.717293</td>\n",
              "      <td>-0.165946</td>\n",
              "      <td>2.345865</td>\n",
              "      <td>-2.890083</td>\n",
              "      <td>1.109969</td>\n",
              "      <td>-0.121359</td>\n",
              "      <td>-2.261857</td>\n",
              "      <td>0.524980</td>\n",
              "      <td>0.247998</td>\n",
              "      <td>0.771679</td>\n",
              "      <td>0.909412</td>\n",
              "      <td>-0.689281</td>\n",
              "      <td>-0.327642</td>\n",
              "      <td>-0.139097</td>\n",
              "      <td>-0.055353</td>\n",
              "      <td>-0.059752</td>\n",
              "      <td>378.66</td>\n",
              "      <td>0</td>\n",
              "    </tr>\n",
              "    <tr>\n",
              "      <th>3</th>\n",
              "      <td>1.0</td>\n",
              "      <td>-0.966272</td>\n",
              "      <td>-0.185226</td>\n",
              "      <td>1.792993</td>\n",
              "      <td>-0.863291</td>\n",
              "      <td>-0.010309</td>\n",
              "      <td>1.247203</td>\n",
              "      <td>0.237609</td>\n",
              "      <td>0.377436</td>\n",
              "      <td>-1.387024</td>\n",
              "      <td>-0.054952</td>\n",
              "      <td>-0.226487</td>\n",
              "      <td>0.178228</td>\n",
              "      <td>0.507757</td>\n",
              "      <td>-0.287924</td>\n",
              "      <td>-0.631418</td>\n",
              "      <td>-1.059647</td>\n",
              "      <td>-0.684093</td>\n",
              "      <td>1.965775</td>\n",
              "      <td>-1.232622</td>\n",
              "      <td>-0.208038</td>\n",
              "      <td>-0.108300</td>\n",
              "      <td>0.005274</td>\n",
              "      <td>-0.190321</td>\n",
              "      <td>-1.175575</td>\n",
              "      <td>0.647376</td>\n",
              "      <td>-0.221929</td>\n",
              "      <td>0.062723</td>\n",
              "      <td>0.061458</td>\n",
              "      <td>123.50</td>\n",
              "      <td>0</td>\n",
              "    </tr>\n",
              "    <tr>\n",
              "      <th>4</th>\n",
              "      <td>2.0</td>\n",
              "      <td>-1.158233</td>\n",
              "      <td>0.877737</td>\n",
              "      <td>1.548718</td>\n",
              "      <td>0.403034</td>\n",
              "      <td>-0.407193</td>\n",
              "      <td>0.095921</td>\n",
              "      <td>0.592941</td>\n",
              "      <td>-0.270533</td>\n",
              "      <td>0.817739</td>\n",
              "      <td>0.753074</td>\n",
              "      <td>-0.822843</td>\n",
              "      <td>0.538196</td>\n",
              "      <td>1.345852</td>\n",
              "      <td>-1.119670</td>\n",
              "      <td>0.175121</td>\n",
              "      <td>-0.451449</td>\n",
              "      <td>-0.237033</td>\n",
              "      <td>-0.038195</td>\n",
              "      <td>0.803487</td>\n",
              "      <td>0.408542</td>\n",
              "      <td>-0.009431</td>\n",
              "      <td>0.798278</td>\n",
              "      <td>-0.137458</td>\n",
              "      <td>0.141267</td>\n",
              "      <td>-0.206010</td>\n",
              "      <td>0.502292</td>\n",
              "      <td>0.219422</td>\n",
              "      <td>0.215153</td>\n",
              "      <td>69.99</td>\n",
              "      <td>0</td>\n",
              "    </tr>\n",
              "  </tbody>\n",
              "</table>\n",
              "</div>"
            ],
            "text/plain": [
              "   Time        V1        V2        V3  ...       V27       V28  Amount  Class\n",
              "0   0.0 -1.359807 -0.072781  2.536347  ...  0.133558 -0.021053  149.62      0\n",
              "1   0.0  1.191857  0.266151  0.166480  ... -0.008983  0.014724    2.69      0\n",
              "2   1.0 -1.358354 -1.340163  1.773209  ... -0.055353 -0.059752  378.66      0\n",
              "3   1.0 -0.966272 -0.185226  1.792993  ...  0.062723  0.061458  123.50      0\n",
              "4   2.0 -1.158233  0.877737  1.548718  ...  0.219422  0.215153   69.99      0\n",
              "\n",
              "[5 rows x 31 columns]"
            ]
          },
          "metadata": {
            "tags": []
          },
          "execution_count": 4
        }
      ]
    },
    {
      "cell_type": "code",
      "metadata": {
        "id": "lA__wmw-SIBP"
      },
      "source": [
        "# Удаляем столбец со временем\n",
        "data = df.drop(['Time'], axis=1)\n",
        "# Нормализуем столбец с суммой транзакции\n",
        "data['Amount'] = StandardScaler().fit_transform(data['Amount'].values.reshape(-1, 1))\n",
        "\n",
        "frauds = data[data.Class == 1] # записываем мошеннические операции\n",
        "normal = data[data.Class == 0] # записываем нормальные операции"
      ],
      "execution_count": null,
      "outputs": []
    },
    {
      "cell_type": "code",
      "metadata": {
        "colab": {
          "base_uri": "https://localhost:8080/",
          "height": 224
        },
        "id": "XJ3AAjHt-4U8",
        "outputId": "6d90552a-a288-48a9-c1c3-5a6cff464884"
      },
      "source": [
        "normal.head()"
      ],
      "execution_count": null,
      "outputs": [
        {
          "output_type": "execute_result",
          "data": {
            "text/html": [
              "<div>\n",
              "<style scoped>\n",
              "    .dataframe tbody tr th:only-of-type {\n",
              "        vertical-align: middle;\n",
              "    }\n",
              "\n",
              "    .dataframe tbody tr th {\n",
              "        vertical-align: top;\n",
              "    }\n",
              "\n",
              "    .dataframe thead th {\n",
              "        text-align: right;\n",
              "    }\n",
              "</style>\n",
              "<table border=\"1\" class=\"dataframe\">\n",
              "  <thead>\n",
              "    <tr style=\"text-align: right;\">\n",
              "      <th></th>\n",
              "      <th>V1</th>\n",
              "      <th>V2</th>\n",
              "      <th>V3</th>\n",
              "      <th>V4</th>\n",
              "      <th>V5</th>\n",
              "      <th>V6</th>\n",
              "      <th>V7</th>\n",
              "      <th>V8</th>\n",
              "      <th>V9</th>\n",
              "      <th>V10</th>\n",
              "      <th>V11</th>\n",
              "      <th>V12</th>\n",
              "      <th>V13</th>\n",
              "      <th>V14</th>\n",
              "      <th>V15</th>\n",
              "      <th>V16</th>\n",
              "      <th>V17</th>\n",
              "      <th>V18</th>\n",
              "      <th>V19</th>\n",
              "      <th>V20</th>\n",
              "      <th>V21</th>\n",
              "      <th>V22</th>\n",
              "      <th>V23</th>\n",
              "      <th>V24</th>\n",
              "      <th>V25</th>\n",
              "      <th>V26</th>\n",
              "      <th>V27</th>\n",
              "      <th>V28</th>\n",
              "      <th>Amount</th>\n",
              "      <th>Class</th>\n",
              "    </tr>\n",
              "  </thead>\n",
              "  <tbody>\n",
              "    <tr>\n",
              "      <th>0</th>\n",
              "      <td>-1.359807</td>\n",
              "      <td>-0.072781</td>\n",
              "      <td>2.536347</td>\n",
              "      <td>1.378155</td>\n",
              "      <td>-0.338321</td>\n",
              "      <td>0.462388</td>\n",
              "      <td>0.239599</td>\n",
              "      <td>0.098698</td>\n",
              "      <td>0.363787</td>\n",
              "      <td>0.090794</td>\n",
              "      <td>-0.551600</td>\n",
              "      <td>-0.617801</td>\n",
              "      <td>-0.991390</td>\n",
              "      <td>-0.311169</td>\n",
              "      <td>1.468177</td>\n",
              "      <td>-0.470401</td>\n",
              "      <td>0.207971</td>\n",
              "      <td>0.025791</td>\n",
              "      <td>0.403993</td>\n",
              "      <td>0.251412</td>\n",
              "      <td>-0.018307</td>\n",
              "      <td>0.277838</td>\n",
              "      <td>-0.110474</td>\n",
              "      <td>0.066928</td>\n",
              "      <td>0.128539</td>\n",
              "      <td>-0.189115</td>\n",
              "      <td>0.133558</td>\n",
              "      <td>-0.021053</td>\n",
              "      <td>0.244964</td>\n",
              "      <td>0</td>\n",
              "    </tr>\n",
              "    <tr>\n",
              "      <th>1</th>\n",
              "      <td>1.191857</td>\n",
              "      <td>0.266151</td>\n",
              "      <td>0.166480</td>\n",
              "      <td>0.448154</td>\n",
              "      <td>0.060018</td>\n",
              "      <td>-0.082361</td>\n",
              "      <td>-0.078803</td>\n",
              "      <td>0.085102</td>\n",
              "      <td>-0.255425</td>\n",
              "      <td>-0.166974</td>\n",
              "      <td>1.612727</td>\n",
              "      <td>1.065235</td>\n",
              "      <td>0.489095</td>\n",
              "      <td>-0.143772</td>\n",
              "      <td>0.635558</td>\n",
              "      <td>0.463917</td>\n",
              "      <td>-0.114805</td>\n",
              "      <td>-0.183361</td>\n",
              "      <td>-0.145783</td>\n",
              "      <td>-0.069083</td>\n",
              "      <td>-0.225775</td>\n",
              "      <td>-0.638672</td>\n",
              "      <td>0.101288</td>\n",
              "      <td>-0.339846</td>\n",
              "      <td>0.167170</td>\n",
              "      <td>0.125895</td>\n",
              "      <td>-0.008983</td>\n",
              "      <td>0.014724</td>\n",
              "      <td>-0.342475</td>\n",
              "      <td>0</td>\n",
              "    </tr>\n",
              "    <tr>\n",
              "      <th>2</th>\n",
              "      <td>-1.358354</td>\n",
              "      <td>-1.340163</td>\n",
              "      <td>1.773209</td>\n",
              "      <td>0.379780</td>\n",
              "      <td>-0.503198</td>\n",
              "      <td>1.800499</td>\n",
              "      <td>0.791461</td>\n",
              "      <td>0.247676</td>\n",
              "      <td>-1.514654</td>\n",
              "      <td>0.207643</td>\n",
              "      <td>0.624501</td>\n",
              "      <td>0.066084</td>\n",
              "      <td>0.717293</td>\n",
              "      <td>-0.165946</td>\n",
              "      <td>2.345865</td>\n",
              "      <td>-2.890083</td>\n",
              "      <td>1.109969</td>\n",
              "      <td>-0.121359</td>\n",
              "      <td>-2.261857</td>\n",
              "      <td>0.524980</td>\n",
              "      <td>0.247998</td>\n",
              "      <td>0.771679</td>\n",
              "      <td>0.909412</td>\n",
              "      <td>-0.689281</td>\n",
              "      <td>-0.327642</td>\n",
              "      <td>-0.139097</td>\n",
              "      <td>-0.055353</td>\n",
              "      <td>-0.059752</td>\n",
              "      <td>1.160686</td>\n",
              "      <td>0</td>\n",
              "    </tr>\n",
              "    <tr>\n",
              "      <th>3</th>\n",
              "      <td>-0.966272</td>\n",
              "      <td>-0.185226</td>\n",
              "      <td>1.792993</td>\n",
              "      <td>-0.863291</td>\n",
              "      <td>-0.010309</td>\n",
              "      <td>1.247203</td>\n",
              "      <td>0.237609</td>\n",
              "      <td>0.377436</td>\n",
              "      <td>-1.387024</td>\n",
              "      <td>-0.054952</td>\n",
              "      <td>-0.226487</td>\n",
              "      <td>0.178228</td>\n",
              "      <td>0.507757</td>\n",
              "      <td>-0.287924</td>\n",
              "      <td>-0.631418</td>\n",
              "      <td>-1.059647</td>\n",
              "      <td>-0.684093</td>\n",
              "      <td>1.965775</td>\n",
              "      <td>-1.232622</td>\n",
              "      <td>-0.208038</td>\n",
              "      <td>-0.108300</td>\n",
              "      <td>0.005274</td>\n",
              "      <td>-0.190321</td>\n",
              "      <td>-1.175575</td>\n",
              "      <td>0.647376</td>\n",
              "      <td>-0.221929</td>\n",
              "      <td>0.062723</td>\n",
              "      <td>0.061458</td>\n",
              "      <td>0.140534</td>\n",
              "      <td>0</td>\n",
              "    </tr>\n",
              "    <tr>\n",
              "      <th>4</th>\n",
              "      <td>-1.158233</td>\n",
              "      <td>0.877737</td>\n",
              "      <td>1.548718</td>\n",
              "      <td>0.403034</td>\n",
              "      <td>-0.407193</td>\n",
              "      <td>0.095921</td>\n",
              "      <td>0.592941</td>\n",
              "      <td>-0.270533</td>\n",
              "      <td>0.817739</td>\n",
              "      <td>0.753074</td>\n",
              "      <td>-0.822843</td>\n",
              "      <td>0.538196</td>\n",
              "      <td>1.345852</td>\n",
              "      <td>-1.119670</td>\n",
              "      <td>0.175121</td>\n",
              "      <td>-0.451449</td>\n",
              "      <td>-0.237033</td>\n",
              "      <td>-0.038195</td>\n",
              "      <td>0.803487</td>\n",
              "      <td>0.408542</td>\n",
              "      <td>-0.009431</td>\n",
              "      <td>0.798278</td>\n",
              "      <td>-0.137458</td>\n",
              "      <td>0.141267</td>\n",
              "      <td>-0.206010</td>\n",
              "      <td>0.502292</td>\n",
              "      <td>0.219422</td>\n",
              "      <td>0.215153</td>\n",
              "      <td>-0.073403</td>\n",
              "      <td>0</td>\n",
              "    </tr>\n",
              "  </tbody>\n",
              "</table>\n",
              "</div>"
            ],
            "text/plain": [
              "         V1        V2        V3        V4  ...       V27       V28    Amount  Class\n",
              "0 -1.359807 -0.072781  2.536347  1.378155  ...  0.133558 -0.021053  0.244964      0\n",
              "1  1.191857  0.266151  0.166480  0.448154  ... -0.008983  0.014724 -0.342475      0\n",
              "2 -1.358354 -1.340163  1.773209  0.379780  ... -0.055353 -0.059752  1.160686      0\n",
              "3 -0.966272 -0.185226  1.792993 -0.863291  ...  0.062723  0.061458  0.140534      0\n",
              "4 -1.158233  0.877737  1.548718  0.403034  ...  0.219422  0.215153 -0.073403      0\n",
              "\n",
              "[5 rows x 30 columns]"
            ]
          },
          "metadata": {
            "tags": []
          },
          "execution_count": 9
        }
      ]
    },
    {
      "cell_type": "code",
      "metadata": {
        "colab": {
          "base_uri": "https://localhost:8080/"
        },
        "id": "QG2ZvcTcSPSS",
        "outputId": "1ee89b84-8663-4b2a-a3b8-1761880365c3"
      },
      "source": [
        "frauds.shape # смотрим какие размеры у мошеннических операций"
      ],
      "execution_count": null,
      "outputs": [
        {
          "output_type": "execute_result",
          "data": {
            "text/plain": [
              "(492, 30)"
            ]
          },
          "metadata": {
            "tags": []
          },
          "execution_count": 7
        }
      ]
    },
    {
      "cell_type": "code",
      "metadata": {
        "colab": {
          "base_uri": "https://localhost:8080/"
        },
        "id": "iyJSn49ESMb4",
        "outputId": "d76762e2-bb2e-4ae4-d91a-db8e8e630600"
      },
      "source": [
        "normal.shape # смотрим какие размеры у нормальных операций"
      ],
      "execution_count": null,
      "outputs": [
        {
          "output_type": "execute_result",
          "data": {
            "text/plain": [
              "(284315, 30)"
            ]
          },
          "metadata": {
            "tags": []
          },
          "execution_count": 8
        }
      ]
    },
    {
      "cell_type": "code",
      "metadata": {
        "id": "8zFrSDquSTFq"
      },
      "source": [
        "RANDOM_SEED = 42 # задаем случайное значение\n",
        "\n",
        "# берём нормальные операции и разбиваем на train_test(только 'X')\n",
        "X_train, X_test = train_test_split(normal, test_size=0.2, shuffle = True, random_state=RANDOM_SEED)"
      ],
      "execution_count": null,
      "outputs": []
    },
    {
      "cell_type": "code",
      "metadata": {
        "id": "GvRIAqvDSUon"
      },
      "source": [
        "# Удаляем класс в обучающем наборе данных\n",
        "X_train = X_train.drop(['Class'], axis=1)\n",
        "X_train = X_train.values\n",
        "\n",
        "\n",
        "\n",
        "# Добавляем все мошеннические транзакции в тестовый набор данных\n",
        "X_test = pd.concat([X_test, frauds])\n",
        "# Делаем метки для тестового набора данных\n",
        "y_test = X_test['Class']\n",
        "# Удаляем класс у тестового набора данных\n",
        "X_test = X_test.drop(['Class'], axis=1)\n",
        "# Преобразуем данные в массивы numpy\n",
        "\n",
        "X_test = X_test.values\n"
      ],
      "execution_count": null,
      "outputs": []
    },
    {
      "cell_type": "code",
      "metadata": {
        "colab": {
          "base_uri": "https://localhost:8080/"
        },
        "id": "WqflqXicbX7b",
        "outputId": "c1151f58-9335-45e4-eef7-9194af96794d"
      },
      "source": [
        "print(X_train.shape) # взглянем на размеры обучающих данных"
      ],
      "execution_count": null,
      "outputs": [
        {
          "output_type": "stream",
          "text": [
            "(227452, 29)\n"
          ],
          "name": "stdout"
        }
      ]
    },
    {
      "cell_type": "code",
      "metadata": {
        "colab": {
          "base_uri": "https://localhost:8080/"
        },
        "id": "ifLdLLTUC4Ro",
        "outputId": "5ba25bb1-e583-4e3d-9c32-90250a239292"
      },
      "source": [
        "print(X_test.shape)"
      ],
      "execution_count": null,
      "outputs": [
        {
          "output_type": "stream",
          "text": [
            "(57355, 29)\n"
          ],
          "name": "stdout"
        }
      ]
    },
    {
      "cell_type": "markdown",
      "metadata": {
        "id": "k9Vq6nhA8PV9"
      },
      "source": [
        "##Автокодировщик\n",
        "\n",
        "Важно не переборщиить со сложностью автокодировщика, чтобы он выделял важные моменты , обобщал, не переобучался."
      ]
    },
    {
      "cell_type": "code",
      "metadata": {
        "colab": {
          "base_uri": "https://localhost:8080/"
        },
        "id": "PtZTkSRCEV7I",
        "outputId": "60ab4e20-b83b-4e66-f871-5051e407c281"
      },
      "source": [
        "def creditcardAutoencoder(): \n",
        "  dataSize = X_train.shape[1]\n",
        "  dataInput = Input(shape=(dataSize, ))\n",
        "  #x = Dense(100, activation = 'relu')(dataInput)\n",
        "\n",
        "  #x = Dropout(0.2)(x)\n",
        "  \n",
        "  x = Dense(10, activation='relu')(dataInput)\n",
        "\n",
        "  #x = Dense(100, activation = 'relu')(z)\n",
        "  #x = Dropout(0.2)(x)\n",
        "\n",
        "  x = Dense(dataSize, activation='linear')(x) \n",
        "  \n",
        "  autoencoder = Model(inputs=dataInput, outputs=x) # собрали модель \n",
        "  \n",
        "  autoencoder.compile(optimizer='Adam', loss='mse') # компилируем модель также, с выбором оптимайзера и среднеквадратичной ошибки\n",
        "  \n",
        "  return autoencoder \n",
        "\n",
        "\n",
        "model = creditcardAutoencoder()\n",
        "model.summary()"
      ],
      "execution_count": null,
      "outputs": [
        {
          "output_type": "stream",
          "text": [
            "Model: \"model\"\n",
            "_________________________________________________________________\n",
            "Layer (type)                 Output Shape              Param #   \n",
            "=================================================================\n",
            "input_1 (InputLayer)         [(None, 29)]              0         \n",
            "_________________________________________________________________\n",
            "dense (Dense)                (None, 10)                300       \n",
            "_________________________________________________________________\n",
            "dense_1 (Dense)              (None, 29)                319       \n",
            "=================================================================\n",
            "Total params: 619\n",
            "Trainable params: 619\n",
            "Non-trainable params: 0\n",
            "_________________________________________________________________\n"
          ],
          "name": "stdout"
        }
      ]
    },
    {
      "cell_type": "code",
      "metadata": {
        "colab": {
          "base_uri": "https://localhost:8080/"
        },
        "id": "N2LjGoPncgRS",
        "outputId": "b8d727ab-df72-4a8b-ad5e-667d35eeae95"
      },
      "source": [
        "#model.compile(optimizer=Adam(lr=1e-4), loss='mse')\n",
        "best__loss = ModelCheckpoint('best_loss.h5', save_best_only=True, monitor='loss', mode='min')\n",
        "history = model.fit(X_train, X_train,\n",
        "                    epochs=25,\n",
        "                    batch_size=32,\n",
        "                    \n",
        "                    callbacks = [best__loss])"
      ],
      "execution_count": null,
      "outputs": [
        {
          "output_type": "stream",
          "text": [
            "Epoch 1/25\n",
            "7108/7108 [==============================] - 14s 2ms/step - loss: 0.5872\n",
            "Epoch 2/25\n",
            "7108/7108 [==============================] - 11s 2ms/step - loss: 0.3633\n",
            "Epoch 3/25\n",
            "7108/7108 [==============================] - 11s 2ms/step - loss: 0.3601\n",
            "Epoch 4/25\n",
            "7108/7108 [==============================] - 12s 2ms/step - loss: 0.3584\n",
            "Epoch 5/25\n",
            "7108/7108 [==============================] - 12s 2ms/step - loss: 0.3531\n",
            "Epoch 6/25\n",
            "7108/7108 [==============================] - 11s 2ms/step - loss: 0.3515\n",
            "Epoch 7/25\n",
            "7108/7108 [==============================] - 12s 2ms/step - loss: 0.3573\n",
            "Epoch 8/25\n",
            "7108/7108 [==============================] - 11s 2ms/step - loss: 0.3519\n",
            "Epoch 9/25\n",
            "7108/7108 [==============================] - 11s 2ms/step - loss: 0.3551\n",
            "Epoch 10/25\n",
            "7108/7108 [==============================] - 12s 2ms/step - loss: 0.3544\n",
            "Epoch 11/25\n",
            "7108/7108 [==============================] - 11s 2ms/step - loss: 0.3526\n",
            "Epoch 12/25\n",
            "7108/7108 [==============================] - 12s 2ms/step - loss: 0.3569\n",
            "Epoch 13/25\n",
            "7108/7108 [==============================] - 11s 2ms/step - loss: 0.3557\n",
            "Epoch 14/25\n",
            "7108/7108 [==============================] - 11s 2ms/step - loss: 0.3543\n",
            "Epoch 15/25\n",
            "7108/7108 [==============================] - 11s 2ms/step - loss: 0.3551\n",
            "Epoch 16/25\n",
            "7108/7108 [==============================] - 11s 2ms/step - loss: 0.3570\n",
            "Epoch 17/25\n",
            "7108/7108 [==============================] - 11s 2ms/step - loss: 0.3515\n",
            "Epoch 18/25\n",
            "7108/7108 [==============================] - 11s 2ms/step - loss: 0.3530\n",
            "Epoch 19/25\n",
            "7108/7108 [==============================] - 11s 2ms/step - loss: 0.3515\n",
            "Epoch 20/25\n",
            "7108/7108 [==============================] - 11s 2ms/step - loss: 0.3529\n",
            "Epoch 21/25\n",
            "7108/7108 [==============================] - 11s 2ms/step - loss: 0.3526\n",
            "Epoch 22/25\n",
            "7108/7108 [==============================] - 11s 2ms/step - loss: 0.3551\n",
            "Epoch 23/25\n",
            "7108/7108 [==============================] - 11s 2ms/step - loss: 0.3538\n",
            "Epoch 24/25\n",
            "7108/7108 [==============================] - 11s 2ms/step - loss: 0.3557\n",
            "Epoch 25/25\n",
            "7108/7108 [==============================] - 11s 2ms/step - loss: 0.3587\n"
          ],
          "name": "stdout"
        }
      ]
    },
    {
      "cell_type": "code",
      "metadata": {
        "id": "BCW-Z2xWTUhA"
      },
      "source": [
        "model_best = load_model('/content/best_loss.h5')"
      ],
      "execution_count": null,
      "outputs": []
    },
    {
      "cell_type": "code",
      "metadata": {
        "colab": {
          "base_uri": "https://localhost:8080/",
          "height": 428
        },
        "id": "kQ3TVd5J5hOu",
        "outputId": "d1d7fadb-94bb-4635-834f-b0105b8997f7"
      },
      "source": [
        "#Выводим графики\n",
        "plt.figure(figsize=(14,7))\n",
        "plt.plot(history.history['loss'], \n",
        "         label='Ошибка на обучающем наборе')\n",
        "plt.ylabel('Средняя ошибка')\n",
        "plt.legend()\n",
        "plt.show()"
      ],
      "execution_count": null,
      "outputs": [
        {
          "output_type": "display_data",
          "data": {
            "image/png": "[encoded data removed]",
            "text/plain": [
              "<Figure size 1008x504 with 1 Axes>"
            ]
          },
          "metadata": {
            "tags": [],
            "needs_background": "light"
          }
        }
      ]
    },
    {
      "cell_type": "code",
      "metadata": {
        "id": "g_a2nEGcdSLg"
      },
      "source": [
        "predictions = model_best.predict(X_test) # делаем предсказание по X_test\n",
        "mse = np.mean(np.power(X_test - predictions, 2), axis=1) # определяем среднеквадратичную ошибку по X_test и предсказанием по X_test\n",
        "mse_normal = mse[y_test.values == 0] # среднеквадратичная ошибка на нормальных операциях\n",
        "mse_frauds = mse[y_test.values == 1] # среднеквадратичная ошибка на мошеннических операциях"
      ],
      "execution_count": null,
      "outputs": []
    },
    {
      "cell_type": "code",
      "metadata": {
        "colab": {
          "base_uri": "https://localhost:8080/",
          "height": 445
        },
        "id": "NGxRYORm1dZs",
        "outputId": "bded063b-9bd6-4b16-8306-79e3e8688cfa"
      },
      "source": [
        "plt.figure(figsize = (15,7))\n",
        "plt.hist(mse_frauds, density=True, bins=40)\n",
        "plt.title('Распределение ошибки на мошеннических данных')\n",
        "plt.ylabel('')\n",
        "plt.show()"
      ],
      "execution_count": null,
      "outputs": [
        {
          "output_type": "display_data",
          "data": {
            "image/png": "[encoded data removed]",
            "text/plain": [
              "<Figure size 1080x504 with 1 Axes>"
            ]
          },
          "metadata": {
            "tags": [],
            "needs_background": "light"
          }
        }
      ]
    },
    {
      "cell_type": "code",
      "metadata": {
        "colab": {
          "base_uri": "https://localhost:8080/",
          "height": 445
        },
        "id": "5wzTcMxz1Sw-",
        "outputId": "1239247b-7f39-49a5-e188-9138729815d4"
      },
      "source": [
        "plt.figure(figsize = (15,7))\n",
        "plt.hist(mse_normal, density=True, bins=40)\n",
        "plt.title('Распределение ошибки на нормальных данных')\n",
        "plt.show()"
      ],
      "execution_count": null,
      "outputs": [
        {
          "output_type": "display_data",
          "data": {
            "image/png": "[encoded data removed]",
            "text/plain": [
              "<Figure size 1080x504 with 1 Axes>"
            ]
          },
          "metadata": {
            "tags": []
          }
        }
      ]
    },
    {
      "cell_type": "code",
      "metadata": {
        "colab": {
          "base_uri": "https://localhost:8080/"
        },
        "id": "L87dXHl4pJe7",
        "outputId": "ae910cc3-9738-40f5-a9e7-4dedb1021894"
      },
      "source": [
        "print(pd.Series(mse_frauds).describe())\n",
        "print(pd.Series(mse_normal).describe())"
      ],
      "execution_count": null,
      "outputs": [
        {
          "output_type": "stream",
          "text": [
            "count    492.000000\n",
            "mean      19.107532\n",
            "std       22.459855\n",
            "min        0.159839\n",
            "25%        3.989410\n",
            "50%        8.606871\n",
            "75%       24.447726\n",
            "max      114.361378\n",
            "dtype: float64\n",
            "count    56863.000000\n",
            "mean         0.354407\n",
            "std          1.600061\n",
            "min          0.039622\n",
            "25%          0.165767\n",
            "50%          0.242928\n",
            "75%          0.385550\n",
            "max        326.427319\n",
            "dtype: float64\n"
          ],
          "name": "stdout"
        }
      ]
    },
    {
      "cell_type": "code",
      "metadata": {
        "colab": {
          "base_uri": "https://localhost:8080/"
        },
        "id": "OzI7K95qeux7",
        "outputId": "4d0144bf-e9e7-49d9-a9bf-dbf00589a4a9"
      },
      "source": [
        "print(\"Минимальная ошибка нормальных транзакций:\", round(min(mse_normal),4)) #найдем минимальную среднеквадратичную ошибку на нормальных операциях\n",
        "print(\"Максимальная ошибка нормальных транзакций:\", round(max(mse_normal),4)) #найдем максимальную среднеквадратичную ошибку на нормальных операциях\n",
        "print(\"Средняя ошибка нормальных транзакций:\", round(sum(mse_normal) / len(mse_normal),4)) # среднюю ошибку\n",
        "\n",
        "print(\"Минимальная ошибка мошеннических транзакций:\", round(min(mse_frauds),4)) #найдем минимальную среднеквадратичную ошибку на мошеннических операциях\n",
        "print(\"Максимальная ошибка мошеннических транзакций:\", round(max(mse_frauds),4)) #найдем максимальную среднеквадратичную ошибку на мошеннических операциях\n",
        "print(\"Средняя ошибка мошеннических транзакций:\", round(sum(mse_frauds) / len(mse_frauds),4)) # среднюю ошибку"
      ],
      "execution_count": null,
      "outputs": [
        {
          "output_type": "stream",
          "text": [
            "Минимальная ошибка нормальных транзакций: 0.0396\n",
            "Максимальная ошибка нормальных транзакций: 326.4273\n",
            "Средняя ошибка нормальных транзакций: 0.3544\n",
            "Минимальная ошибка мошеннических транзакций: 0.1598\n",
            "Максимальная ошибка мошеннических транзакций: 114.3614\n",
            "Средняя ошибка мошеннических транзакций: 19.1075\n"
          ],
          "name": "stdout"
        }
      ]
    },
    {
      "cell_type": "markdown",
      "metadata": {
        "id": "tDl2WFJ2uhpQ"
      },
      "source": [
        "##Нужно по графику понять, определить следующие границы. Но по данному графику это сложно сделать, поэтому написал функцию.\n",
        "\n",
        "Постройте на одном графике 2 гистограммы (density=True) для нормальных и мошеннических транзакций. По графику определите 3 порога:\n",
        "1) при котором все мошеннические транзакции будут пойманы\n",
        "2) “оптимальный порог” - на пересечении распределений\n",
        "3) при котором ни одна нормальная транзакция не будет распознана, как мошенническая"
      ]
    },
    {
      "cell_type": "code",
      "metadata": {
        "colab": {
          "base_uri": "https://localhost:8080/"
        },
        "id": "6q-mpOYQwEmL",
        "outputId": "26dd5c0f-e84e-48bb-c211-5ca2830b130a"
      },
      "source": [
        "#Функция принимает 2 массива ошибок, 1 массив на валидные операции, второй массив - мошенники. ВОзвращает 3 числа.\n",
        "#1 - порог по поиску ВСЕХ мошенников. 2 - Порог по поиску ВСЕХ нормальных транзакций 3 - Оптимальный Порог\n",
        "\n",
        "def porog(x,y,k=1):\n",
        "    #x - Валидные операции\n",
        "    #y - Мошенники\n",
        "    valids = x.max()\n",
        "    targets = y.min()\n",
        "    optimal = np.quantile(x, 0.5) +  k*x.std() #95% доверительный интервал для валидных\n",
        "    result = {'targets': targets, 'valids':valids, 'optimal':optimal}\n",
        "    return result\n",
        "\n",
        "def getAccByBias(bias): # функция будет принимать какое то пороговое значение\n",
        "  isNormal = mse_normal < bias # если ошибка меньше порога - то транзакция нормальная\n",
        "  isFrauds = mse_frauds > bias # если ошибка больше порога - то транзакция мошенническая\n",
        "\n",
        "  accNormal = sum(isNormal) / len(isNormal) # вычисляем процент нормальных операций\n",
        "  accFaruds = sum(isFrauds) / len(isFrauds) # вычисляем процент мошеннических операций\n",
        "  return (accNormal, accFaruds)\n",
        "\n",
        "result = porog(mse_normal, mse_frauds,0.5)\n",
        "print(result)\n",
        "for i in result:\n",
        "    print('----------------Результат при ', i, '--------------------')\n",
        "    t = getAccByBias(result[i])\n",
        "    print(\"Распознано нормальных транзакций: \", round(100*t[0]), \"%\", sep=\"\")\n",
        "    print(\"Распознано мошеннических транзакций: \", round(100*t[1]), \"%\", sep=\"\")\n",
        "    print(\"Средняя точность распознавания: \", round(50*(t[0] + t[1])), \"%\", sep=\"\")\n",
        "    "
      ],
      "execution_count": null,
      "outputs": [
        {
          "output_type": "stream",
          "text": [
            "{'targets': 0.15799456738057524, 'valids': 354.2357903738266, 'optimal': 1.0998822512720965}\n",
            "----------------Результат при  targets --------------------\n",
            "Распознано нормальных транзакций: 22%\n",
            "Распознано мошеннических транзакций: 100%\n",
            "Средняя точность распознавания: 61%\n",
            "----------------Результат при  valids --------------------\n",
            "Распознано нормальных транзакций: 100%\n",
            "Распознано мошеннических транзакций: 0%\n",
            "Средняя точность распознавания: 50%\n",
            "----------------Результат при  optimal --------------------\n",
            "Распознано нормальных транзакций: 98%\n",
            "Распознано мошеннических транзакций: 86%\n",
            "Средняя точность распознавания: 92%\n"
          ],
          "name": "stdout"
        }
      ]
    },
    {
      "cell_type": "markdown",
      "metadata": {
        "id": "33BIa80as1TP"
      },
      "source": [
        "##Теперь подберем оптимальный параметр отклонения порога отмедианы, чтобы точность была не менее 92%"
      ]
    },
    {
      "cell_type": "code",
      "metadata": {
        "colab": {
          "base_uri": "https://localhost:8080/",
          "height": 513
        },
        "id": "sA5udU_4jNVK",
        "outputId": "97a8f7cb-8da9-483f-be05-c78a83830bf6"
      },
      "source": [
        "r=[]\n",
        "v = []\n",
        "for i in np.arange(0,3,0.01):\n",
        "  result = porog(mse_normal, mse_frauds,i)\n",
        "  v.append(result['optimal'])\n",
        "  t = getAccByBias(result['optimal'])\n",
        "  r.append(round(50*(t[0] + t[1])))\n",
        "r = np.array(r)\n",
        "v = np.array(v)\n",
        "plt.figure(figsize = (15,8))\n",
        "plt.plot(v,r)\n",
        "plt.xlabel('Порог (количество стандарных отклонений std от медианы')\n",
        "plt.ylabel('Точность')\n",
        "plt.title('График точности распознавания при различных порогах')\n",
        "plt.show()"
      ],
      "execution_count": null,
      "outputs": [
        {
          "output_type": "display_data",
          "data": {
            "image/png": "[encoded data removed]",
            "text/plain": [
              "<Figure size 1080x576 with 1 Axes>"
            ]
          },
          "metadata": {
            "tags": []
          }
        }
      ]
    },
    {
      "cell_type": "markdown",
      "metadata": {
        "id": "f6RzkExJp143"
      },
      "source": [
        "#Порог - это количество стандартных отклонений от медианы. На графике при пороге  в районе 1 std точность достигает 92%"
      ]
    },
    {
      "cell_type": "code",
      "metadata": {
        "colab": {
          "base_uri": "https://localhost:8080/"
        },
        "id": "RtgYbTClmpbg",
        "outputId": "40113ef7-04d7-4f66-e4c5-d276d7d75dda"
      },
      "source": [
        "#Максимальная точность\n",
        "r.max()"
      ],
      "execution_count": null,
      "outputs": [
        {
          "output_type": "execute_result",
          "data": {
            "text/plain": [
              "92"
            ]
          },
          "metadata": {
            "tags": []
          },
          "execution_count": 54
        }
      ]
    },
    {
      "cell_type": "markdown",
      "metadata": {
        "id": "wcQiTd_AZbnL"
      },
      "source": [
        "#При Оптимальном распознавании 92% мошеннических  операций распознано в пике. Порог равен медиана + std распределения нормальных операций. Задание выполнено"
      ]
    },
    {
      "cell_type": "markdown",
      "metadata": {
        "id": "S8qpgR5wQ-bI"
      },
      "source": [
        "# Требовалось построить 2 распределения на 1 графике:"
      ]
    },
    {
      "cell_type": "code",
      "metadata": {
        "colab": {
          "base_uri": "https://localhost:8080/",
          "height": 676
        },
        "id": "HXHbnN0_N2Ne",
        "outputId": "5574d785-8af9-4e68-f598-b5dde679040d"
      },
      "source": [
        "plt.figure(figsize = (20,10))\n",
        "sns.distplot(mse_normal, label = 'normal')\n",
        "sns.distplot(mse_frauds, label = 'frauds')\n",
        "plt.legend()\n",
        "plt.show()"
      ],
      "execution_count": null,
      "outputs": [
        {
          "output_type": "stream",
          "text": [
            "/usr/local/lib/python3.7/dist-packages/seaborn/distributions.py:2557: FutureWarning: `distplot` is a deprecated function and will be removed in a future version. Please adapt your code to use either `displot` (a figure-level function with similar flexibility) or `histplot` (an axes-level function for histograms).\n",
            "  warnings.warn(msg, FutureWarning)\n",
            "/usr/local/lib/python3.7/dist-packages/seaborn/distributions.py:2557: FutureWarning: `distplot` is a deprecated function and will be removed in a future version. Please adapt your code to use either `displot` (a figure-level function with similar flexibility) or `histplot` (an axes-level function for histograms).\n",
            "  warnings.warn(msg, FutureWarning)\n"
          ],
          "name": "stderr"
        },
        {
          "output_type": "display_data",
          "data": {
            "image/png": "[encoded data removed]",
            "text/plain": [
              "<Figure size 1440x720 with 1 Axes>"
            ]
          },
          "metadata": {
            "tags": []
          }
        }
      ]
    }
  ]
}